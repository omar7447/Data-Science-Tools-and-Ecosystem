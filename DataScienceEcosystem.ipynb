{
 "cells": [
  {
   "cell_type": "markdown",
   "id": "33232f4f",
   "metadata": {},
   "source": [
    "# Data Science Tools and Ecosystem"
   ]
  },
  {
   "cell_type": "markdown",
   "id": "8bfc8bfa",
   "metadata": {},
   "source": [
    "In this notebook, Data science tools and Ecosystem are summarized\n"
   ]
  },
  {
   "cell_type": "markdown",
   "id": "fed65540",
   "metadata": {},
   "source": [
    "**Objetives**:\n",
    "- List of popular languages for Data science \n",
    "- List of popular libraries for Data science\n",
    "- Popular Data Science tools \n",
    "- Simple arithmetic expression \n",
    "- Simpe conversion from hours to minutes \n"
   ]
  },
  {
   "cell_type": "markdown",
   "id": "49e68a75",
   "metadata": {},
   "source": [
    "Some of the popular languages that Data Scientists use are :\n",
    "1. Python\n",
    "2. SQL\n",
    "3. R\n",
    "4. Scala\n",
    "5. JavaScript"
   ]
  },
  {
   "cell_type": "markdown",
   "id": "60630793",
   "metadata": {},
   "source": [
    "Some of the commonly used libraries used by Data scientists include:\n",
    "1. Pandas\n",
    "2. Matplotlib\n",
    "3. TensorFlow\n",
    "4. seaborn\n",
    "5. Scikit-learn\n",
    "\n"
   ]
  },
  {
   "cell_type": "markdown",
   "id": "b1f2e318",
   "metadata": {},
   "source": [
    "|Data Science Tools|\n",
    "|:--:|\n",
    "|RStudio|\n",
    "|Jupyter Notebook|\n",
    "|Visual Studio Code|\n",
    "|spyder|\n"
   ]
  },
  {
   "cell_type": "markdown",
   "id": "109eeddf",
   "metadata": {},
   "source": [
    "### Below are a few examples of evaluating arithmetic expressions in python"
   ]
  },
  {
   "cell_type": "code",
   "execution_count": 1,
   "id": "f11ba8e1",
   "metadata": {},
   "outputs": [
    {
     "data": {
      "text/plain": [
       "17"
      ]
     },
     "execution_count": 1,
     "metadata": {},
     "output_type": "execute_result"
    }
   ],
   "source": [
    "#this is a simple arithmetic expression to multiply then add integers\n",
    "(3*4)+5"
   ]
  },
  {
   "cell_type": "code",
   "execution_count": 2,
   "id": "4b11c120",
   "metadata": {},
   "outputs": [
    {
     "data": {
      "text/plain": [
       "3.3333333333333335"
      ]
     },
     "execution_count": 2,
     "metadata": {},
     "output_type": "execute_result"
    }
   ],
   "source": [
    "#This will convert 200 minutes to hours by diving by 60\n",
    "200/60\n"
   ]
  },
  {
   "cell_type": "markdown",
   "id": "620fb149",
   "metadata": {},
   "source": [
    "## Author \n",
    "Omar David Rojas Meza"
   ]
  }
 ],
 "metadata": {
  "kernelspec": {
   "display_name": "Python 3 (ipykernel)",
   "language": "python",
   "name": "python3"
  },
  "language_info": {
   "codemirror_mode": {
    "name": "ipython",
    "version": 3
   },
   "file_extension": ".py",
   "mimetype": "text/x-python",
   "name": "python",
   "nbconvert_exporter": "python",
   "pygments_lexer": "ipython3",
   "version": "3.11.5"
  }
 },
 "nbformat": 4,
 "nbformat_minor": 5
}
